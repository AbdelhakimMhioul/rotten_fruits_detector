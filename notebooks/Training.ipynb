{
	"cells": [
		{
			"attachments": {},
			"cell_type": "markdown",
			"metadata": {},
			"source": [
				"# Training the model"
			]
		},
		{
			"attachments": {},
			"cell_type": "markdown",
			"metadata": {},
			"source": [
				"## Imports"
			]
		},
		{
			"cell_type": "code",
			"execution_count": 4,
			"metadata": {
				"id": "pb5EquM8r5zc"
			},
			"outputs": [],
			"source": [
				"import matplotlib.pyplot as plt\n",
				"import torch\n",
				"from torch import nn, optim\n",
				"from torchsummary import summary\n",
				"from torchvision import datasets, transforms, models\n",
				"import torchvision.models as models\n",
				"from tqdm.auto import tqdm\n",
				"\n",
				"from src.globals import TRAIN_DIR, TEST_DIR, BATCH_SIZE, DEVICE\n"
			]
		},
		{
			"attachments": {},
			"cell_type": "markdown",
			"metadata": {},
			"source": [
				"## Data Transformation & Normalization"
			]
		},
		{
			"cell_type": "code",
			"execution_count": 5,
			"metadata": {
				"id": "QpGg6GP_sLAw"
			},
			"outputs": [],
			"source": [
				"# Defining augmentation for train data RESIZING ROTATING FLIP CONVERTING TO TENSOR AND NORMALIZATION\n",
				"train_transforms = transforms.Compose([\n",
				"    transforms.Resize((244, 244)),\n",
				"    transforms.RandomRotation(30),\n",
				"    transforms.RandomHorizontalFlip(),\n",
				"    transforms.ToTensor(),\n",
				"    transforms.Normalize((0.5, 0.5, 0.5), (0.5, 0.5, 0.5))\n",
				"])\n",
				"\n",
				"# transform for valid data RESIZE CONVERTING TO TENSOR NORMALIZATION\n",
				"valid_transforms = transforms.Compose([\n",
				"    transforms.Resize((244, 244)),\n",
				"    transforms.ToTensor(),\n",
				"    transforms.Normalize((0.5, 0.5, 0.5), (0.5, 0.5, 0.5))\n",
				"])\n",
				"\n",
				"# transform for test data RESIZE CONVERTING TO TENSOR NORMALIZATION\n",
				"test_transforms = transforms.Compose([\n",
				"    transforms.Resize((244, 244)),\n",
				"    transforms.ToTensor(),\n",
				"    transforms.Normalize((0.5, 0.5, 0.5), (0.5, 0.5, 0.5))\n",
				"])\n"
			]
		},
		{
			"attachments": {},
			"cell_type": "markdown",
			"metadata": {},
			"source": [
				"## Loading & Splitting the dataset"
			]
		},
		{
			"cell_type": "code",
			"execution_count": 6,
			"metadata": {
				"colab": {
					"base_uri": "https://localhost:8080/"
				},
				"id": "Ht4fFMs7sUZC",
				"outputId": "6c75a412-2fa3-42e8-b54f-31b0a014643c"
			},
			"outputs": [
				{
					"name": "stdout",
					"output_type": "stream",
					"text": [
						"Total of Samples: 800\n",
						"Number of Samples in Train: 585, Validation: 65, Test: 150\n",
						"Classes:  ['0% Rotten', '100% Rotten', '25% Rotten', '50% Rotten', '75% Rotten']\n"
					]
				}
			],
			"source": [
				"# Loading dataset (Train & Test) from directory\n",
				"dataset = datasets.ImageFolder(TRAIN_DIR, transform=train_transforms)\n",
				"test_dataset = datasets.ImageFolder(TEST_DIR, transform=test_transforms)\n",
				"\n",
				"# Splitting train dataset into Train and Validation datasets\n",
				"valid_size = int(0.1 * len(dataset))\n",
				"train_size = len(dataset) - valid_size\n",
				"\n",
				"train_dataset, valid_dataset = torch.utils.data.random_split(\n",
				"    dataset, [train_size, valid_size])\n",
				"\n",
				"# Loading datasets into dataloader\n",
				"train_loader = torch.utils.data.DataLoader(\n",
				"    train_dataset, batch_size=BATCH_SIZE, shuffle=True)\n",
				"valid_loader = torch.utils.data.DataLoader(\n",
				"    valid_dataset, batch_size=BATCH_SIZE, shuffle=True)\n",
				"test_loader = torch.utils.data.DataLoader(\n",
				"    test_dataset, batch_size=BATCH_SIZE, shuffle=True)\n",
				"\n",
				"print(f\"Total of Samples: {len(dataset) + len(test_dataset)}\")\n",
				"print(\n",
				"    f\"Number of Samples in Train: {len(train_dataset)}, Validation: {len(valid_dataset)}, Test: {len(test_dataset)}\")\n",
				"print(\"Classes: \", dataset.classes)\n"
			]
		},
		{
			"attachments": {},
			"cell_type": "markdown",
			"metadata": {},
			"source": [
				"## Loading the pretrained VGG16 model"
			]
		},
		{
			"cell_type": "code",
			"execution_count": 8,
			"metadata": {
				"colab": {
					"base_uri": "https://localhost:8080/"
				},
				"id": "9uQOe-9RtHao",
				"outputId": "540d0974-2111-4671-d02d-1e75bf02a3d4"
			},
			"outputs": [
				{
					"name": "stdout",
					"output_type": "stream",
					"text": [
						"----------------------------------------------------------------\n",
						"        Layer (type)               Output Shape         Param #\n",
						"================================================================\n",
						"            Conv2d-1         [-1, 64, 244, 244]           1,792\n",
						"              ReLU-2         [-1, 64, 244, 244]               0\n",
						"            Conv2d-3         [-1, 64, 244, 244]          36,928\n",
						"              ReLU-4         [-1, 64, 244, 244]               0\n",
						"         MaxPool2d-5         [-1, 64, 122, 122]               0\n",
						"            Conv2d-6        [-1, 128, 122, 122]          73,856\n",
						"              ReLU-7        [-1, 128, 122, 122]               0\n",
						"            Conv2d-8        [-1, 128, 122, 122]         147,584\n",
						"              ReLU-9        [-1, 128, 122, 122]               0\n",
						"        MaxPool2d-10          [-1, 128, 61, 61]               0\n",
						"           Conv2d-11          [-1, 256, 61, 61]         295,168\n",
						"             ReLU-12          [-1, 256, 61, 61]               0\n",
						"           Conv2d-13          [-1, 256, 61, 61]         590,080\n",
						"             ReLU-14          [-1, 256, 61, 61]               0\n",
						"           Conv2d-15          [-1, 256, 61, 61]         590,080\n",
						"             ReLU-16          [-1, 256, 61, 61]               0\n",
						"        MaxPool2d-17          [-1, 256, 30, 30]               0\n",
						"           Conv2d-18          [-1, 512, 30, 30]       1,180,160\n",
						"             ReLU-19          [-1, 512, 30, 30]               0\n",
						"           Conv2d-20          [-1, 512, 30, 30]       2,359,808\n",
						"             ReLU-21          [-1, 512, 30, 30]               0\n",
						"           Conv2d-22          [-1, 512, 30, 30]       2,359,808\n",
						"             ReLU-23          [-1, 512, 30, 30]               0\n",
						"        MaxPool2d-24          [-1, 512, 15, 15]               0\n",
						"           Conv2d-25          [-1, 512, 15, 15]       2,359,808\n",
						"             ReLU-26          [-1, 512, 15, 15]               0\n",
						"           Conv2d-27          [-1, 512, 15, 15]       2,359,808\n",
						"             ReLU-28          [-1, 512, 15, 15]               0\n",
						"           Conv2d-29          [-1, 512, 15, 15]       2,359,808\n",
						"             ReLU-30          [-1, 512, 15, 15]               0\n",
						"        MaxPool2d-31            [-1, 512, 7, 7]               0\n",
						"AdaptiveAvgPool2d-32            [-1, 512, 7, 7]               0\n",
						"           Linear-33                 [-1, 4096]     102,764,544\n",
						"             ReLU-34                 [-1, 4096]               0\n",
						"          Dropout-35                 [-1, 4096]               0\n",
						"           Linear-36                 [-1, 4096]      16,781,312\n",
						"             ReLU-37                 [-1, 4096]               0\n",
						"          Dropout-38                 [-1, 4096]               0\n",
						"           Linear-39                 [-1, 1000]       4,097,000\n",
						"================================================================\n",
						"Total params: 138,357,544\n",
						"Trainable params: 138,357,544\n",
						"Non-trainable params: 0\n",
						"----------------------------------------------------------------\n",
						"Input size (MB): 0.68\n",
						"Forward/backward pass size (MB): 258.51\n",
						"Params size (MB): 527.79\n",
						"Estimated Total Size (MB): 786.98\n",
						"----------------------------------------------------------------\n"
					]
				}
			],
			"source": [
				"# Loading predefined ResNet34 model \n",
				"model = models.vgg16().to(DEVICE)\n",
				"\n",
				"# Freezing the parameters\n",
				"# num_ftrs = model.fc.in_features\n",
				"# model.fc = nn.Linear(num_ftrs, 5)\n",
				"\n",
				"summary(model, input_size=(3, 244, 244))"
			]
		},
		{
			"attachments": {},
			"cell_type": "markdown",
			"metadata": {},
			"source": [
				"## Loss function & Optimizer"
			]
		},
		{
			"cell_type": "code",
			"execution_count": 10,
			"metadata": {
				"id": "BP2ShJAJtL84"
			},
			"outputs": [],
			"source": [
				"criterion = nn.CrossEntropyLoss()\n",
				"optimizer = optim.SGD(model.parameters(), lr=0.01, momentum=0.9)\n",
				"lrscheduler = optim.lr_scheduler.ReduceLROnPlateau(optimizer, mode='max', patience=3, threshold = 0.9)"
			]
		},
		{
			"attachments": {},
			"cell_type": "markdown",
			"metadata": {},
			"source": [
				"## Validation step"
			]
		},
		{
			"cell_type": "code",
			"execution_count": 11,
			"metadata": {
				"id": "tdA5aUSytSzl"
			},
			"outputs": [],
			"source": [
				"def validation(model, validloader, criterion):\n",
				"    valid_loss = 0\n",
				"    accuracy = 0\n",
				"\n",
				"    # change model to work with cuda\n",
				"    model.to(DEVICE)\n",
				"\n",
				"    # Iterate over data from validloader\n",
				"    for ii, (images, labels) in tqdm(enumerate(valid_loader)):\n",
				"\n",
				"        # Change images and labels to work with cuda\n",
				"        images, labels = images.to(DEVICE), labels.to(DEVICE)\n",
				"\n",
				"        # Forward pass image though model for prediction\n",
				"        output = model.forward(images)\n",
				"        # Calculate loss\n",
				"        valid_loss += criterion(output, labels).item()\n",
				"        # Calculate probability\n",
				"        ps = torch.exp(output)\n",
				"\n",
				"        # Calculate accuracy\n",
				"        equality = (labels.data == ps.max(dim=1)[1])\n",
				"        accuracy += equality.type(torch.FloatTensor).mean()\n",
				"\n",
				"    return valid_loss, accuracy\n"
			]
		},
		{
			"attachments": {},
			"cell_type": "markdown",
			"metadata": {},
			"source": [
				"## Training the model"
			]
		},
		{
			"cell_type": "code",
			"execution_count": 12,
			"metadata": {
				"colab": {
					"base_uri": "https://localhost:8080/"
				},
				"id": "84nnf64vtXYR",
				"outputId": "d5dbb1f4-ba6f-4fab-d77a-67154b88115b"
			},
			"outputs": [
				{
					"name": "stderr",
					"output_type": "stream",
					"text": [
						"  0%|          | 0/3 [00:00<?, ?it/s]"
					]
				},
				{
					"name": "stdout",
					"output_type": "stream",
					"text": [
						"Starting Epoch 1\n"
					]
				},
				{
					"name": "stderr",
					"output_type": "stream",
					"text": [
						"/home/hakim/.local/lib/python3.10/site-packages/PIL/Image.py:979: UserWarning: Palette images with Transparency expressed in bytes should be converted to RGBA images\n",
						"  warnings.warn(\n",
						"3it [00:16,  5.63s/it]\n"
					]
				},
				{
					"name": "stdout",
					"output_type": "stream",
					"text": [
						"No. epochs: 1 \tTraining Loss: 1.657 \tValid Loss 5.099 \tValid Accuracy 0.12\n"
					]
				},
				{
					"name": "stderr",
					"output_type": "stream",
					"text": [
						" 33%|███▎      | 1/3 [07:15<14:31, 435.84s/it]"
					]
				},
				{
					"name": "stdout",
					"output_type": "stream",
					"text": [
						"Starting Epoch 2\n"
					]
				},
				{
					"name": "stderr",
					"output_type": "stream",
					"text": [
						"3it [00:13,  4.34s/it]\n"
					]
				},
				{
					"name": "stdout",
					"output_type": "stream",
					"text": [
						"No. epochs: 2 \tTraining Loss: 0.204 \tValid Loss 7.446 \tValid Accuracy 0.278\n"
					]
				},
				{
					"name": "stderr",
					"output_type": "stream",
					"text": [
						"3it [00:14,  4.77s/it]\n"
					]
				},
				{
					"name": "stdout",
					"output_type": "stream",
					"text": [
						"No. epochs: 2 \tTraining Loss: 1.754 \tValid Loss 6.606 \tValid Accuracy 0.172\n"
					]
				},
				{
					"name": "stderr",
					"output_type": "stream",
					"text": [
						" 67%|██████▋   | 2/3 [14:18<07:07, 427.92s/it]"
					]
				},
				{
					"name": "stdout",
					"output_type": "stream",
					"text": [
						"Starting Epoch 3\n"
					]
				},
				{
					"name": "stderr",
					"output_type": "stream",
					"text": [
						"3it [00:16,  5.36s/it]\n"
					]
				},
				{
					"name": "stdout",
					"output_type": "stream",
					"text": [
						"No. epochs: 3 \tTraining Loss: 0.299 \tValid Loss 3.427 \tValid Accuracy 0.262\n"
					]
				},
				{
					"name": "stderr",
					"output_type": "stream",
					"text": [
						"3it [00:12,  4.31s/it]\n"
					]
				},
				{
					"name": "stdout",
					"output_type": "stream",
					"text": [
						"No. epochs: 3 \tTraining Loss: 1.62 \tValid Loss 1.26 \tValid Accuracy 0.503\n"
					]
				},
				{
					"name": "stderr",
					"output_type": "stream",
					"text": [
						"100%|██████████| 3/3 [20:48<00:00, 416.14s/it]\n"
					]
				}
			],
			"source": [
				"epochs = 3\n",
				"steps = 0\n",
				"print_every = 10\n",
				"\n",
				"# for ploting Graphs\n",
				"valid_loss_A = []\n",
				"valid_accuracy_A = []\n",
				"train_loss_A = []\n",
				"\n",
				"model.train()\n",
				"for e in tqdm(range(epochs)):\n",
				"    print(\"Starting Epoch\", e+1)\n",
				"    running_loss = 0\n",
				"\n",
				"    # Iterating over data to carry out training step\n",
				"    for ii, (inputs, labels) in enumerate(train_loader):\n",
				"        steps += 1\n",
				"\n",
				"        inputs, labels = inputs.to(DEVICE), labels.to(DEVICE)\n",
				"\n",
				"        # zeroing parameter gradients\n",
				"        optimizer.zero_grad()\n",
				"\n",
				"        # Forward and backward passes\n",
				"        outputs = model.forward(inputs)\n",
				"        loss = criterion(outputs, labels)\n",
				"        loss.backward()\n",
				"        optimizer.step()\n",
				"        running_loss += loss.item()\n",
				"\n",
				"        # Carrying out validation step\n",
				"        if steps % print_every == 0:\n",
				"            # setting model to evaluation mode during validation\n",
				"            model.eval()\n",
				"            # Gradients are turned off as no longer in training\n",
				"            with torch.inference_mode():\n",
				"                valid_loss, accuracy = validation(\n",
				"                    model, valid_loader, criterion)\n",
				"\n",
				"            ValidLoss = round(valid_loss/len(valid_loader), 3)\n",
				"            ValidAccuracy = round(float(accuracy/len(valid_loader)), 3)\n",
				"            TrainingLoss = round(running_loss/print_every, 3)\n",
				"            print(\"No. epochs:\", (e+1), \"\\tTraining Loss:\", TrainingLoss,\n",
				"                  \"\\tValid Loss\", ValidLoss, \"\\tValid Accuracy\", ValidAccuracy)\n",
				"\n",
				"            valid_loss_A.append(ValidLoss)\n",
				"            valid_accuracy_A.append(ValidAccuracy)\n",
				"            train_loss_A.append(TrainingLoss)\n",
				"\n",
				"            if (e+1) == epochs:\n",
				"                # Saving: feature weights, new model.fc, index-to-class mapping, optimizer state, and No. of epochs\n",
				"                checkpoint = {\n",
				"                    'state_dict': model.state_dict(),\n",
				"                    'model': model.fc,\n",
				"                    'class_to_idx': dataset.class_to_idx,\n",
				"                    'opt_state': optimizer.state_dict,\n",
				"                    'num_epochs': epochs\n",
				"                }\n",
				"                #name = str(e)\n",
				"                path = '../model/modelFinal.pth'\n",
				"                torch.save(checkpoint, path)\n",
				"\n",
				"            # Turning training back on\n",
				"            model.train()\n",
				"            lrscheduler.step(accuracy * 100)\n"
			]
		},
		{
			"attachments": {},
			"cell_type": "markdown",
			"metadata": {},
			"source": [
				"## Ploting the results"
			]
		},
		{
			"cell_type": "code",
			"execution_count": 13,
			"metadata": {
				"colab": {
					"base_uri": "https://localhost:8080/",
					"height": 573
				},
				"id": "sJazK0zUtff6",
				"outputId": "c1f988aa-d5f5-4b1d-fd7e-2b13538bb50e"
			},
			"outputs": [
				{
					"data": {
						"image/png": "[encoded data removed]",
						"text/plain": [
							"<Figure size 640x480 with 1 Axes>"
						]
					},
					"metadata": {},
					"output_type": "display_data"
				},
				{
					"data": {
						"image/png": "[encoded data removed]",
						"text/plain": [
							"<Figure size 640x480 with 1 Axes>"
						]
					},
					"metadata": {},
					"output_type": "display_data"
				}
			],
			"source": [
				"epochs = range(len(valid_accuracy_A))\n",
				"\n",
				"\n",
				"plt.plot(epochs, valid_loss_A, 'r', label='Valid Loss')\n",
				"plt.plot(epochs, train_loss_A, 'b', label='Train Loss')\n",
				"plt.title('Valid Loss and Train Loss')\n",
				"plt.ylabel('Loss')\n",
				"plt.xlabel('Epochs')\n",
				"plt.legend()\n",
				"plt.figure()\n",
				"plt.plot(epochs, valid_loss_A, 'r', label='Valid Loss')\n",
				"plt.plot(epochs, valid_accuracy_A, 'b', label='Valid Accuracy')\n",
				"plt.title('Valid Loss and Valid Accuracy')\n",
				"plt.ylabel('Validation')\n",
				"plt.xlabel('Epochs')\n",
				"plt.legend()\n",
				"plt.show()\n"
			]
		}
	],
	"metadata": {
		"accelerator": "GPU",
		"colab": {
			"collapsed_sections": [],
			"name": "Training.ipynb",
			"provenance": []
		},
		"kernelspec": {
			"display_name": "Python 3.10.8 64-bit",
			"language": "python",
			"name": "python3"
		},
		"language_info": {
			"codemirror_mode": {
				"name": "ipython",
				"version": 3
			},
			"file_extension": ".py",
			"mimetype": "text/x-python",
			"name": "python",
			"nbconvert_exporter": "python",
			"pygments_lexer": "ipython3",
			"version": "3.10.8"
		},
		"vscode": {
			"interpreter": {
				"hash": "e7370f93d1d0cde622a1f8e1c04877d8463912d04d973331ad4851f04de6915a"
			}
		}
	},
	"nbformat": 4,
	"nbformat_minor": 1
}
